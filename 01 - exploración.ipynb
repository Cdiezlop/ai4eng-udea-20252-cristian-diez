# =========================================================
# 01 - exploración.ipynb
# Proyecto AI4ENG UDEA 2025-2 - Pruebas Saber Pro Colombia
# =========================================================

# ---------------------------------------------------------
# 🧭 1. Introducción
# ---------------------------------------------------------
# En este notebook se realiza la exploración inicial del conjunto
# de datos 'train.csv' de la competencia AI4ENG UDEA 2025-2.
# El objetivo es conocer la estructura de los datos, identificar
# variables relevantes, tipos, valores faltantes y distribución
# de la variable objetivo: RENDIMIENTO_GLOBAL.

# ---------------------------------------------------------
# 🔧 2. Configuración del entorno
# ---------------------------------------------------------
# Este código está pensado para ejecutarse en Google Colab.
# Si trabajas localmente, puedes omitir la parte de Google Drive.

from google.colab import drive
drive.mount('/content/drive')

# Cambia esta ruta según donde hayas guardado tu archivo train.csv
import pandas as pd

ruta = '/content/drive/MyDrive/ai4eng/train.csv'  # Ajusta según tu carpeta
data = pd.read_csv(ruta)

# ---------------------------------------------------------
# 👀 3. Exploración básica
# ---------------------------------------------------------
# Mostramos las dimensiones del dataset y una vista rápida
print("Dimensiones del dataset:", data.shape)
display(data.head())

# Tipos de datos
print("\nTipos de datos por columna:")
display(data.dtypes)

# Valores faltantes
print("\nPorcentaje de valores faltantes por columna:")
display((data.isnull().sum() / len(data) * 100).sort_values(ascending=False))

# ---------------------------------------------------------
# 📊 4. Distribución de la variable objetivo
# ---------------------------------------------------------
# Exploramos cómo se distribuyen las clases de RENDIMIENTO_GLOBAL

if 'RENDIMIENTO_GLOBAL' in data.columns:
    print("\nDistribución de la variable objetivo:")
    display(data['RENDIMIENTO_GLOBAL'].value_counts())

    import matplotlib.pyplot as plt
    data['RENDIMIENTO_GLOBAL'].value_counts().plot(
        kind='bar', title='Distribución de RENDIMIENTO_GLOBAL', rot=0
    )
    plt.xlabel("Categoría")
    plt.ylabel("Cantidad de estudiantes")
    plt.show()
else:
    print("\n⚠️ La columna 'RENDIMIENTO_GLOBAL' no está presente en el dataset.")

# ---------------------------------------------------------
# 🧩 5. Observaciones iniciales
# ---------------------------------------------------------
# - Verificar si hay columnas con muchos valores faltantes.
# - Identificar variables numéricas y categóricas.
# - Considerar normalización o codificación para próximas etapas.

# Fin del notebook de exploración.
